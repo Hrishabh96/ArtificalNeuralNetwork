{
  "nbformat": 4,
  "nbformat_minor": 0,
  "metadata": {
    "colab": {
      "name": "ArtificalNeuralNetwork.ipynb",
      "provenance": [],
      "collapsed_sections": [],
      "toc_visible": true,
      "authorship_tag": "ABX9TyMGSx8A6PXxEAdMph9BiPOM",
      "include_colab_link": true
    },
    "kernelspec": {
      "name": "python3",
      "display_name": "Python 3"
    }
  },
  "cells": [
    {
      "cell_type": "markdown",
      "metadata": {
        "id": "view-in-github",
        "colab_type": "text"
      },
      "source": [
        "<a href=\"https://colab.research.google.com/github/Hrishabh96/ArtificalNeuralNetwork/blob/main/ArtificalNeuralNetwork.ipynb\" target=\"_parent\"><img src=\"https://colab.research.google.com/assets/colab-badge.svg\" alt=\"Open In Colab\"/></a>"
      ]
    },
    {
      "cell_type": "markdown",
      "metadata": {
        "id": "-5UjKg3K7mHO"
      },
      "source": [
        "#Artifical Neural Network"
      ]
    },
    {
      "cell_type": "markdown",
      "metadata": {
        "id": "tzBCKLygBIr2"
      },
      "source": [
        "Importing the libraries"
      ]
    },
    {
      "cell_type": "code",
      "metadata": {
        "id": "BrPWMmcM7qnJ"
      },
      "source": [
        "import numpy as np\n",
        "import pandas as pd\n",
        "import tensorflow as tf"
      ],
      "execution_count": 1,
      "outputs": []
    },
    {
      "cell_type": "code",
      "metadata": {
        "id": "_g4zrTRuJb5s",
        "outputId": "cc12c289-b244-430f-e7fb-686ee4760394",
        "colab": {
          "base_uri": "https://localhost:8080/",
          "height": 35
        }
      },
      "source": [
        "tf.__version__"
      ],
      "execution_count": 2,
      "outputs": [
        {
          "output_type": "execute_result",
          "data": {
            "application/vnd.google.colaboratory.intrinsic+json": {
              "type": "string"
            },
            "text/plain": [
              "'2.3.0'"
            ]
          },
          "metadata": {
            "tags": []
          },
          "execution_count": 2
        }
      ]
    },
    {
      "cell_type": "markdown",
      "metadata": {
        "id": "l5O8ruYoJriL"
      },
      "source": [
        "#Part 1 - Data Preprocessing"
      ]
    },
    {
      "cell_type": "markdown",
      "metadata": {
        "id": "MjdDTJJeMFp-"
      },
      "source": [
        "Importing the DataSet"
      ]
    },
    {
      "cell_type": "code",
      "metadata": {
        "id": "eFzOus-wJwzR"
      },
      "source": [
        "dataset = pd.read_excel('Folds5x2_pp.xlsx')\n",
        "X = dataset.iloc[:, :-1].values\n",
        "y = dataset.iloc[:, -1].values"
      ],
      "execution_count": 3,
      "outputs": []
    },
    {
      "cell_type": "code",
      "metadata": {
        "id": "U6bfsfNFzBiN",
        "outputId": "757ba392-0c71-4d26-cdc2-208f1005d436",
        "colab": {
          "base_uri": "https://localhost:8080/"
        }
      },
      "source": [
        "print(X)\n",
        "print(y)"
      ],
      "execution_count": 4,
      "outputs": [
        {
          "output_type": "stream",
          "text": [
            "[[  14.96   41.76 1024.07   73.17]\n",
            " [  25.18   62.96 1020.04   59.08]\n",
            " [   5.11   39.4  1012.16   92.14]\n",
            " ...\n",
            " [  31.32   74.33 1012.92   36.48]\n",
            " [  24.48   69.45 1013.86   62.39]\n",
            " [  21.6    62.52 1017.23   67.87]]\n",
            "[463.26 444.37 488.56 ... 429.57 435.74 453.28]\n"
          ],
          "name": "stdout"
        }
      ]
    },
    {
      "cell_type": "markdown",
      "metadata": {
        "id": "ok4MXE0_yFLE"
      },
      "source": [
        "Splitting the dataset into the Training set and Test set"
      ]
    },
    {
      "cell_type": "code",
      "metadata": {
        "id": "wOwJk-gTyOQA"
      },
      "source": [
        "from sklearn.model_selection import train_test_split\n",
        "X_train, X_test, y_train, y_test = train_test_split(X, y, test_size = 0.2, random_state = 0)"
      ],
      "execution_count": 5,
      "outputs": []
    },
    {
      "cell_type": "markdown",
      "metadata": {
        "id": "7SNRiYGu0TVh"
      },
      "source": [
        "#Part 2 - Building the ANN"
      ]
    },
    {
      "cell_type": "markdown",
      "metadata": {
        "id": "1WY4fbEyMCbo"
      },
      "source": [
        "Initializing the ANN"
      ]
    },
    {
      "cell_type": "code",
      "metadata": {
        "id": "lPXqjgQb0dGl"
      },
      "source": [
        "ann = tf.keras.models.Sequential()"
      ],
      "execution_count": 6,
      "outputs": []
    },
    {
      "cell_type": "markdown",
      "metadata": {
        "id": "z30cpSUpTNBl"
      },
      "source": [
        "Adding the input layer and the first hidden layer "
      ]
    },
    {
      "cell_type": "code",
      "metadata": {
        "id": "I77YYSgKTVsO"
      },
      "source": [
        "ann.add(tf.keras.layers.Dense(units = 6, activation = 'relu'))"
      ],
      "execution_count": 7,
      "outputs": []
    },
    {
      "cell_type": "markdown",
      "metadata": {
        "id": "5npbY0Fr_6-Q"
      },
      "source": [
        "Adding the second hidden layer"
      ]
    },
    {
      "cell_type": "code",
      "metadata": {
        "id": "5HUwRX9LBbLg"
      },
      "source": [
        "ann.add(tf.keras.layers.Dense(units = 6, activation = 'relu'))"
      ],
      "execution_count": 8,
      "outputs": []
    },
    {
      "cell_type": "markdown",
      "metadata": {
        "id": "LTFURSg_CAO5"
      },
      "source": [
        "Adding the output layer"
      ]
    },
    {
      "cell_type": "code",
      "metadata": {
        "id": "r9Kfi1dVCMpo"
      },
      "source": [
        "ann.add(tf.keras.layers.Dense(units = 1))"
      ],
      "execution_count": 9,
      "outputs": []
    },
    {
      "cell_type": "markdown",
      "metadata": {
        "id": "nVA3Xl4kCAxx"
      },
      "source": [
        "#Part 3 - Training the ANN"
      ]
    },
    {
      "cell_type": "markdown",
      "metadata": {
        "id": "nMPuVkf0DZpQ"
      },
      "source": [
        "Compiling the ANN"
      ]
    },
    {
      "cell_type": "code",
      "metadata": {
        "id": "U7n4S7rdDXdN"
      },
      "source": [
        "ann.compile(optimizer = 'adam', loss = 'mean_squared_error')"
      ],
      "execution_count": 10,
      "outputs": []
    },
    {
      "cell_type": "markdown",
      "metadata": {
        "id": "CRxSuyE2FhS5"
      },
      "source": [
        "Training the ANN model on the Training set"
      ]
    },
    {
      "cell_type": "code",
      "metadata": {
        "id": "JASd_cDFFnDr",
        "outputId": "949ac83b-13b5-4f7a-d76b-141c9e40e2ae",
        "colab": {
          "base_uri": "https://localhost:8080/"
        }
      },
      "source": [
        "ann.fit(X_train, y_train, batch_size = 32, epochs = 100)"
      ],
      "execution_count": 11,
      "outputs": [
        {
          "output_type": "stream",
          "text": [
            "Epoch 1/100\n",
            "240/240 [==============================] - 0s 849us/step - loss: 9237.2617\n",
            "Epoch 2/100\n",
            "240/240 [==============================] - 0s 848us/step - loss: 70.3365\n",
            "Epoch 3/100\n",
            "240/240 [==============================] - 0s 812us/step - loss: 68.3341\n",
            "Epoch 4/100\n",
            "240/240 [==============================] - 0s 829us/step - loss: 66.0929\n",
            "Epoch 5/100\n",
            "240/240 [==============================] - 0s 817us/step - loss: 63.7087\n",
            "Epoch 6/100\n",
            "240/240 [==============================] - 0s 865us/step - loss: 60.9199\n",
            "Epoch 7/100\n",
            "240/240 [==============================] - 0s 919us/step - loss: 58.5514\n",
            "Epoch 8/100\n",
            "240/240 [==============================] - 0s 798us/step - loss: 55.8093\n",
            "Epoch 9/100\n",
            "240/240 [==============================] - 0s 811us/step - loss: 53.3910\n",
            "Epoch 10/100\n",
            "240/240 [==============================] - 0s 837us/step - loss: 50.9880\n",
            "Epoch 11/100\n",
            "240/240 [==============================] - 0s 814us/step - loss: 49.2394\n",
            "Epoch 12/100\n",
            "240/240 [==============================] - 0s 834us/step - loss: 46.7933\n",
            "Epoch 13/100\n",
            "240/240 [==============================] - 0s 807us/step - loss: 44.9209\n",
            "Epoch 14/100\n",
            "240/240 [==============================] - 0s 821us/step - loss: 42.7852\n",
            "Epoch 15/100\n",
            "240/240 [==============================] - 0s 826us/step - loss: 41.4731\n",
            "Epoch 16/100\n",
            "240/240 [==============================] - 0s 824us/step - loss: 40.0036\n",
            "Epoch 17/100\n",
            "240/240 [==============================] - 0s 910us/step - loss: 38.7057\n",
            "Epoch 18/100\n",
            "240/240 [==============================] - 0s 860us/step - loss: 37.4267\n",
            "Epoch 19/100\n",
            "240/240 [==============================] - 0s 812us/step - loss: 36.6522\n",
            "Epoch 20/100\n",
            "240/240 [==============================] - 0s 808us/step - loss: 35.4648\n",
            "Epoch 21/100\n",
            "240/240 [==============================] - 0s 815us/step - loss: 35.0580\n",
            "Epoch 22/100\n",
            "240/240 [==============================] - 0s 858us/step - loss: 34.1353\n",
            "Epoch 23/100\n",
            "240/240 [==============================] - 0s 835us/step - loss: 33.0634\n",
            "Epoch 24/100\n",
            "240/240 [==============================] - 0s 823us/step - loss: 32.9443\n",
            "Epoch 25/100\n",
            "240/240 [==============================] - 0s 804us/step - loss: 32.0065\n",
            "Epoch 26/100\n",
            "240/240 [==============================] - 0s 818us/step - loss: 32.1268\n",
            "Epoch 27/100\n",
            "240/240 [==============================] - 0s 875us/step - loss: 31.5290\n",
            "Epoch 28/100\n",
            "240/240 [==============================] - 0s 796us/step - loss: 30.3820\n",
            "Epoch 29/100\n",
            "240/240 [==============================] - 0s 826us/step - loss: 30.4734\n",
            "Epoch 30/100\n",
            "240/240 [==============================] - 0s 852us/step - loss: 30.4605\n",
            "Epoch 31/100\n",
            "240/240 [==============================] - 0s 889us/step - loss: 29.7174\n",
            "Epoch 32/100\n",
            "240/240 [==============================] - 0s 928us/step - loss: 29.9486\n",
            "Epoch 33/100\n",
            "240/240 [==============================] - 0s 897us/step - loss: 29.8462\n",
            "Epoch 34/100\n",
            "240/240 [==============================] - 0s 816us/step - loss: 28.6849\n",
            "Epoch 35/100\n",
            "240/240 [==============================] - 0s 811us/step - loss: 29.4000\n",
            "Epoch 36/100\n",
            "240/240 [==============================] - 0s 848us/step - loss: 27.8985\n",
            "Epoch 37/100\n",
            "240/240 [==============================] - 0s 886us/step - loss: 28.1431\n",
            "Epoch 38/100\n",
            "240/240 [==============================] - 0s 824us/step - loss: 28.6681\n",
            "Epoch 39/100\n",
            "240/240 [==============================] - 0s 812us/step - loss: 28.7478\n",
            "Epoch 40/100\n",
            "240/240 [==============================] - 0s 817us/step - loss: 27.5689\n",
            "Epoch 41/100\n",
            "240/240 [==============================] - 0s 869us/step - loss: 27.9661\n",
            "Epoch 42/100\n",
            "240/240 [==============================] - 0s 884us/step - loss: 27.3296\n",
            "Epoch 43/100\n",
            "240/240 [==============================] - 0s 876us/step - loss: 27.7758\n",
            "Epoch 44/100\n",
            "240/240 [==============================] - 0s 802us/step - loss: 27.1687\n",
            "Epoch 45/100\n",
            "240/240 [==============================] - 0s 894us/step - loss: 27.5985\n",
            "Epoch 46/100\n",
            "240/240 [==============================] - 0s 835us/step - loss: 28.0970\n",
            "Epoch 47/100\n",
            "240/240 [==============================] - 0s 800us/step - loss: 27.0132\n",
            "Epoch 48/100\n",
            "240/240 [==============================] - 0s 836us/step - loss: 27.7549\n",
            "Epoch 49/100\n",
            "240/240 [==============================] - 0s 811us/step - loss: 27.5019\n",
            "Epoch 50/100\n",
            "240/240 [==============================] - 0s 911us/step - loss: 27.9751\n",
            "Epoch 51/100\n",
            "240/240 [==============================] - 0s 903us/step - loss: 27.2123\n",
            "Epoch 52/100\n",
            "240/240 [==============================] - 0s 800us/step - loss: 28.3600\n",
            "Epoch 53/100\n",
            "240/240 [==============================] - 0s 896us/step - loss: 27.0059\n",
            "Epoch 54/100\n",
            "240/240 [==============================] - 0s 815us/step - loss: 27.6245\n",
            "Epoch 55/100\n",
            "240/240 [==============================] - 0s 824us/step - loss: 26.8701\n",
            "Epoch 56/100\n",
            "240/240 [==============================] - 0s 858us/step - loss: 27.4514\n",
            "Epoch 57/100\n",
            "240/240 [==============================] - 0s 819us/step - loss: 27.6216\n",
            "Epoch 58/100\n",
            "240/240 [==============================] - 0s 829us/step - loss: 27.9075\n",
            "Epoch 59/100\n",
            "240/240 [==============================] - 0s 825us/step - loss: 27.7792\n",
            "Epoch 60/100\n",
            "240/240 [==============================] - 0s 812us/step - loss: 27.3393\n",
            "Epoch 61/100\n",
            "240/240 [==============================] - 0s 859us/step - loss: 27.4693\n",
            "Epoch 62/100\n",
            "240/240 [==============================] - 0s 808us/step - loss: 26.6150\n",
            "Epoch 63/100\n",
            "240/240 [==============================] - 0s 830us/step - loss: 27.8209\n",
            "Epoch 64/100\n",
            "240/240 [==============================] - 0s 831us/step - loss: 27.8272\n",
            "Epoch 65/100\n",
            "240/240 [==============================] - 0s 869us/step - loss: 28.3214\n",
            "Epoch 66/100\n",
            "240/240 [==============================] - 0s 866us/step - loss: 27.4814\n",
            "Epoch 67/100\n",
            "240/240 [==============================] - 0s 882us/step - loss: 28.3566\n",
            "Epoch 68/100\n",
            "240/240 [==============================] - 0s 828us/step - loss: 26.9231\n",
            "Epoch 69/100\n",
            "240/240 [==============================] - 0s 871us/step - loss: 27.6846\n",
            "Epoch 70/100\n",
            "240/240 [==============================] - 0s 821us/step - loss: 28.0495\n",
            "Epoch 71/100\n",
            "240/240 [==============================] - 0s 888us/step - loss: 27.6313\n",
            "Epoch 72/100\n",
            "240/240 [==============================] - 0s 835us/step - loss: 27.4322\n",
            "Epoch 73/100\n",
            "240/240 [==============================] - 0s 882us/step - loss: 28.8173\n",
            "Epoch 74/100\n",
            "240/240 [==============================] - 0s 828us/step - loss: 27.7393\n",
            "Epoch 75/100\n",
            "240/240 [==============================] - 0s 815us/step - loss: 27.6926\n",
            "Epoch 76/100\n",
            "240/240 [==============================] - 0s 886us/step - loss: 27.2217\n",
            "Epoch 77/100\n",
            "240/240 [==============================] - 0s 885us/step - loss: 27.1866\n",
            "Epoch 78/100\n",
            "240/240 [==============================] - 0s 934us/step - loss: 27.3852\n",
            "Epoch 79/100\n",
            "240/240 [==============================] - 0s 799us/step - loss: 27.5678\n",
            "Epoch 80/100\n",
            "240/240 [==============================] - 0s 838us/step - loss: 27.2381\n",
            "Epoch 81/100\n",
            "240/240 [==============================] - 0s 871us/step - loss: 27.1445\n",
            "Epoch 82/100\n",
            "240/240 [==============================] - 0s 832us/step - loss: 27.5221\n",
            "Epoch 83/100\n",
            "240/240 [==============================] - 0s 818us/step - loss: 27.8599\n",
            "Epoch 84/100\n",
            "240/240 [==============================] - 0s 842us/step - loss: 27.6752\n",
            "Epoch 85/100\n",
            "240/240 [==============================] - 0s 887us/step - loss: 27.3778\n",
            "Epoch 86/100\n",
            "240/240 [==============================] - 0s 876us/step - loss: 27.3359\n",
            "Epoch 87/100\n",
            "240/240 [==============================] - 0s 802us/step - loss: 28.4667\n",
            "Epoch 88/100\n",
            "240/240 [==============================] - 0s 821us/step - loss: 27.5895\n",
            "Epoch 89/100\n",
            "240/240 [==============================] - 0s 856us/step - loss: 27.4770\n",
            "Epoch 90/100\n",
            "240/240 [==============================] - 0s 923us/step - loss: 29.0595\n",
            "Epoch 91/100\n",
            "240/240 [==============================] - 0s 897us/step - loss: 27.4767\n",
            "Epoch 92/100\n",
            "240/240 [==============================] - 0s 917us/step - loss: 27.1168\n",
            "Epoch 93/100\n",
            "240/240 [==============================] - 0s 825us/step - loss: 27.7450\n",
            "Epoch 94/100\n",
            "240/240 [==============================] - 0s 828us/step - loss: 27.3120\n",
            "Epoch 95/100\n",
            "240/240 [==============================] - 0s 879us/step - loss: 27.5221\n",
            "Epoch 96/100\n",
            "240/240 [==============================] - 0s 814us/step - loss: 26.7477\n",
            "Epoch 97/100\n",
            "240/240 [==============================] - 0s 819us/step - loss: 27.6636\n",
            "Epoch 98/100\n",
            "240/240 [==============================] - 0s 875us/step - loss: 26.8073\n",
            "Epoch 99/100\n",
            "240/240 [==============================] - 0s 823us/step - loss: 27.4237\n",
            "Epoch 100/100\n",
            "240/240 [==============================] - 0s 827us/step - loss: 27.4816\n"
          ],
          "name": "stdout"
        },
        {
          "output_type": "execute_result",
          "data": {
            "text/plain": [
              "<tensorflow.python.keras.callbacks.History at 0x7fe394c0fc50>"
            ]
          },
          "metadata": {
            "tags": []
          },
          "execution_count": 11
        }
      ]
    },
    {
      "cell_type": "markdown",
      "metadata": {
        "id": "O29HrXSvGPLh"
      },
      "source": [
        "Predicting the results of the Test set"
      ]
    },
    {
      "cell_type": "code",
      "metadata": {
        "id": "IHk1CQJTKFIL",
        "outputId": "f33218ac-d074-4699-bbe5-e3f86a08e23c",
        "colab": {
          "base_uri": "https://localhost:8080/"
        }
      },
      "source": [
        "y_pred = ann.predict(X_test)\n",
        "np.set_printoptions(precision = 2)\n",
        "np.concatenate((y_pred.reshape(len(y_pred), 1), y_test.reshape(len(y_test), 1)), 1)"
      ],
      "execution_count": 12,
      "outputs": [
        {
          "output_type": "execute_result",
          "data": {
            "text/plain": [
              "array([[432.77, 431.23],\n",
              "       [463.82, 460.01],\n",
              "       [467.32, 461.14],\n",
              "       ...,\n",
              "       [474.53, 473.26],\n",
              "       [441.37, 438.  ],\n",
              "       [460.54, 463.28]])"
            ]
          },
          "metadata": {
            "tags": []
          },
          "execution_count": 12
        }
      ]
    }
  ]
}